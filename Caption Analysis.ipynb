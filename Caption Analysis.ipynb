{
 "cells": [
  {
   "cell_type": "markdown",
   "metadata": {},
   "source": [
    "### Imports"
   ]
  },
  {
   "cell_type": "code",
   "execution_count": 13,
   "metadata": {},
   "outputs": [],
   "source": [
    "import pandas as pd\n",
    "import re \n",
    "import numpy as np\n",
    "from datetime import datetime\n",
    "import matplotlib.pyplot as plt\n",
    "import seaborn as sns\n",
    "\n",
    "from IPython.display import display, HTML\n",
    "\n",
    "\n",
    "from IPython.core.interactiveshell import InteractiveShell\n",
    "InteractiveShell.ast_node_interactivity = \"all\""
   ]
  },
  {
   "cell_type": "markdown",
   "metadata": {},
   "source": [
    "### Functions"
   ]
  },
  {
   "cell_type": "code",
   "execution_count": 70,
   "metadata": {},
   "outputs": [],
   "source": [
    "def get_wpm(df):\n",
    "    \"\"\"\n",
    "    Get the average words per minute for the entire movie\n",
    "    \"\"\"\n",
    "    seconds = df.tail(1).index.values[0]\n",
    "    words = df.tail(1).values[0][0]\n",
    "    \n",
    "    return round(words/seconds*60,2)"
   ]
  },
  {
   "cell_type": "code",
   "execution_count": 5,
   "metadata": {},
   "outputs": [],
   "source": [
    "def clean_text(line):\n",
    "    \"\"\"\n",
    "    General string cleaning for these files\n",
    "    Removes html tags, leading dashes, and all scenn descriptors ex: (MUSIC IN BACKGROUND)\n",
    "    \"\"\"\n",
    "    clean = line.strip().replace('</i>', '').replace('<i>','').replace('- ', '')\n",
    "    \n",
    "    clean = re.sub('\\(.*\\)','', clean)\n",
    "    clean = re.sub('\\[.*\\]','', clean)\n",
    "    clean = re.sub('♪', '', clean)\n",
    "    \n",
    "    return(clean)"
   ]
  },
  {
   "cell_type": "code",
   "execution_count": 6,
   "metadata": {},
   "outputs": [],
   "source": [
    "def is_time(line): \n",
    "    \"\"\"\n",
    "    Checks the current line to see if it's the time of the scene \n",
    "    \"\"\"\n",
    "    if re.match(\"[0-9][0-9]:\", line):\n",
    "        out = True\n",
    "    else:\n",
    "        out = False\n",
    "        \n",
    "    return out"
   ]
  },
  {
   "cell_type": "code",
   "execution_count": 66,
   "metadata": {},
   "outputs": [],
   "source": [
    "def get_scene_end(line): \n",
    "    \"\"\"\n",
    "    Grab the end time of a frame's subtitles\n",
    "    \"\"\"\n",
    "    line = line.strip()\n",
    "    end = line.split(' --> ')[1]\n",
    "    \n",
    "    end_dt = datetime.strptime(end, '%H:%M:%S,%f')\n",
    "    \n",
    "    return(end_dt)"
   ]
  },
  {
   "cell_type": "code",
   "execution_count": 8,
   "metadata": {},
   "outputs": [],
   "source": [
    "def count_words(line):\n",
    "    \"\"\"\n",
    "    Count the number of words in a line\n",
    "    \"\"\"\n",
    "    out = len(line.split(' '))\n",
    "    return out"
   ]
  },
  {
   "cell_type": "code",
   "execution_count": 9,
   "metadata": {},
   "outputs": [],
   "source": [
    "def parse_file(file_path):    \n",
    "    \"\"\"\n",
    "    Main function for parsing a file it works as follow: \n",
    "        1. Open the file and read each line \n",
    "        2. Clean each line as you go \n",
    "        3. If it's just a subtitle number skip it\n",
    "        4. If it's a timestamp, grab the end time of the scene\n",
    "        5. If it's text, count the number of words \n",
    "    \"\"\"\n",
    "    \n",
    "    base_time = datetime(1900, 1, 1, 0, 0, 0, 0)\n",
    "    total_time = 0\n",
    "    total_words = 0 \n",
    "    dict_list = []\n",
    "\n",
    "\n",
    "    with open(file_path, \"r\") as file: \n",
    "        # Read in all the lines\n",
    "        lines = file.readlines()\n",
    "\n",
    "        # Skip the first line with the weird /ueff stuff\n",
    "        lines = lines[1:]\n",
    "\n",
    "        # Start the loop \n",
    "        for line in lines: \n",
    "            line = clean_text(line)\n",
    "\n",
    "            if line and (not line.isnumeric()): # skips the blank and line number\n",
    "                if is_time(line):\n",
    "                    total_time = (get_scene_end(line) - base_time).seconds\n",
    "                else:\n",
    "                    total_words += count_words(line)\n",
    "\n",
    "            d = {\n",
    "                'seconds': total_time, \n",
    "                'word_count': total_words\n",
    "            }\n",
    "\n",
    "            dict_list.append(d)        \n",
    "\n",
    "\n",
    "    # Create fivethirtyeight dataframe\n",
    "    script_df = pd.DataFrame(dict_list)\n",
    "    script_df = pd.DataFrame(script_df.groupby(['seconds'])['word_count'].max())\n",
    "\n",
    "    return script_df"
   ]
  },
  {
   "cell_type": "markdown",
   "metadata": {},
   "source": [
    "### Parsing"
   ]
  },
  {
   "cell_type": "code",
   "execution_count": 24,
   "metadata": {},
   "outputs": [],
   "source": [
    "humcc = parse_file(\"hum.srt\") \n",
    "autocc = parse_file(\"auto.srt\") "
   ]
  },
  {
   "cell_type": "markdown",
   "metadata": {},
   "source": [
    "# Readibility"
   ]
  },
  {
   "cell_type": "markdown",
   "metadata": {},
   "source": [
    "### Word and character count over time"
   ]
  },
  {
   "cell_type": "code",
   "execution_count": 65,
   "metadata": {},
   "outputs": [
    {
     "data": {
      "text/plain": [
       "[<matplotlib.lines.Line2D at 0x7fe92e96d6d0>]"
      ]
     },
     "execution_count": 65,
     "metadata": {},
     "output_type": "execute_result"
    },
    {
     "data": {
      "text/plain": [
       "[<matplotlib.lines.Line2D at 0x7fe92e961130>]"
      ]
     },
     "execution_count": 65,
     "metadata": {},
     "output_type": "execute_result"
    },
    {
     "data": {
      "text/plain": [
       "Text(0.5, 1.0, 'Video Word Count over Time')"
      ]
     },
     "execution_count": 65,
     "metadata": {},
     "output_type": "execute_result"
    },
    {
     "data": {
      "text/plain": [
       "Text(0.5, 0, 'Seconds')"
      ]
     },
     "execution_count": 65,
     "metadata": {},
     "output_type": "execute_result"
    },
    {
     "data": {
      "text/plain": [
       "Text(0, 0.5, 'Word Count')"
      ]
     },
     "execution_count": 65,
     "metadata": {},
     "output_type": "execute_result"
    },
    {
     "data": {
      "text/plain": [
       "(-30.0, 599.3)"
      ]
     },
     "execution_count": 65,
     "metadata": {},
     "output_type": "execute_result"
    },
    {
     "data": {
      "text/plain": [
       "(-50.0, 1592.85)"
      ]
     },
     "execution_count": 65,
     "metadata": {},
     "output_type": "execute_result"
    },
    {
     "data": {
      "text/plain": [
       "<matplotlib.legend.Legend at 0x7fe92e961460>"
      ]
     },
     "execution_count": 65,
     "metadata": {},
     "output_type": "execute_result"
    },
    {
     "data": {
      "image/png": "[encoded data removed]",
      "text/plain": [
       "<Figure size 720x360 with 1 Axes>"
      ]
     },
     "metadata": {},
     "output_type": "display_data"
    }
   ],
   "source": [
    "plt.style.use('seaborn-white')\n",
    "\n",
    "fig, ax = plt.subplots()\n",
    "fig.set_size_inches(10, 5)\n",
    "width = 2\n",
    "\n",
    "ax.plot(humcc.word_count, linewidth=width)\n",
    "ax.plot(autocc.word_count, linewidth=width)\n",
    "\n",
    "ax.set_title('Video Word Count over Time', fontsize=13)\n",
    "ax.set_xlabel('Seconds', fontsize = 10)\n",
    "ax.set_ylabel('Word Count', fontsize = 10)\n",
    "\n",
    "ax.set_xlim(-30)\n",
    "ax.set_ylim(-50)\n",
    "\n",
    "ax.legend(labels = ['Corrected captions', \n",
    "            'Automatic captions', \n",
    "            ]\n",
    "         )\n",
    "\n",
    "plt.show()\n",
    "fig.savefig('total_view.png')"
   ]
  },
  {
   "cell_type": "markdown",
   "metadata": {},
   "source": [
    "## WPM and CPS"
   ]
  },
  {
   "cell_type": "code",
   "execution_count": 82,
   "metadata": {},
   "outputs": [],
   "source": [
    "humcc_wpm =  get_wpm(humcc)\n",
    "autocc_wpm =  get_wpm(autocc)\n",
    "\n",
    "humcc_cps = int(humcc_wpm * 5.0 / 60.00)\n",
    "autocc_cps = int(autocc_wpm * 5.0 / 60.0)"
   ]
  },
  {
   "cell_type": "code",
   "execution_count": 83,
   "metadata": {},
   "outputs": [
    {
     "name": "stdout",
     "output_type": "stream",
     "text": [
      "Corrected captions display 159.96 wpm and 13\n",
      "Automatic captions display 149.53 wpm and 12\n"
     ]
    }
   ],
   "source": [
    "print(\"Corrected captions display {} wpm and {} cps\".format(humcc_wpm, humcc_cps))\n",
    "print(\"Automatic captions display {} wpm and {} cps\".format(autocc_wpm, autocc_cps))"
   ]
  },
  {
   "cell_type": "markdown",
   "metadata": {},
   "source": [
    "### WPM Plot"
   ]
  },
  {
   "cell_type": "code",
   "execution_count": 86,
   "metadata": {},
   "outputs": [],
   "source": [
    "vector = [humcc_wpm,autocc_wpm]\n",
    "\n",
    "names = ['Corrected captions',\n",
    "        'Automatic captions']\n",
    "\n",
    "y_pos = np.arange(len(vector))"
   ]
  },
  {
   "cell_type": "code",
   "execution_count": 96,
   "metadata": {
    "scrolled": true
   },
   "outputs": [
    {
     "data": {
      "text/plain": [
       "<Figure size 360x360 with 0 Axes>"
      ]
     },
     "execution_count": 96,
     "metadata": {},
     "output_type": "execute_result"
    },
    {
     "data": {
      "text/plain": [
       "([<matplotlib.axis.XTick at 0x7fe92e5a9910>,\n",
       "  <matplotlib.axis.XTick at 0x7fe92e5a9820>],\n",
       " [Text(0, 0, 'Corrected captions'), Text(1, 0, 'Automatic captions')])"
      ]
     },
     "execution_count": 96,
     "metadata": {},
     "output_type": "execute_result"
    },
    {
     "data": {
      "text/plain": [
       "Text(0.5, 1.0, 'Average words per minute')"
      ]
     },
     "execution_count": 96,
     "metadata": {},
     "output_type": "execute_result"
    },
    {
     "data": {
      "text/plain": [
       "Text(0.5, 0, 'Caption type')"
      ]
     },
     "execution_count": 96,
     "metadata": {},
     "output_type": "execute_result"
    },
    {
     "data": {
      "text/plain": [
       "Text(0, 0.5, 'Words per minute')"
      ]
     },
     "execution_count": 96,
     "metadata": {},
     "output_type": "execute_result"
    },
    {
     "data": {
      "text/plain": [
       "(0.5, 167.958)"
      ]
     },
     "execution_count": 96,
     "metadata": {},
     "output_type": "execute_result"
    },
    {
     "data": {
      "image/png": "[encoded data removed]",
      "text/plain": [
       "<Figure size 360x360 with 1 Axes>"
      ]
     },
     "metadata": {},
     "output_type": "display_data"
    }
   ],
   "source": [
    "plt.figure(figsize=(5, 5))\n",
    "\n",
    "chart = sns.barplot(x=names, y=vector, palette='RdBu')\n",
    "\n",
    "plt.xticks(y_pos, names, rotation=45)\n",
    "plt.title('Average words per minute', fontsize=14)\n",
    "plt.xlabel('Caption type', fontsize=12)\n",
    "plt.ylabel('Words per minute', fontsize=12)\n",
    "plt.ylim(.5)\n",
    "plt.show()\n",
    "\n",
    "fig = chart.get_figure()\n",
    "fig.savefig('average_wpm.png')"
   ]
  },
  {
   "cell_type": "markdown",
   "metadata": {},
   "source": [
    "### CPS Plot"
   ]
  },
  {
   "cell_type": "code",
   "execution_count": 98,
   "metadata": {},
   "outputs": [],
   "source": [
    "vector = [humcc_cps,autocc_cps]\n",
    "\n",
    "names = ['Corrected captions',\n",
    "        'Automatic captions']\n",
    "\n",
    "y_pos = np.arange(len(vector))"
   ]
  },
  {
   "cell_type": "code",
   "execution_count": 99,
   "metadata": {},
   "outputs": [
    {
     "data": {
      "text/plain": [
       "<Figure size 360x360 with 0 Axes>"
      ]
     },
     "execution_count": 99,
     "metadata": {},
     "output_type": "execute_result"
    },
    {
     "data": {
      "text/plain": [
       "([<matplotlib.axis.XTick at 0x7fe92ebfd7c0>,\n",
       "  <matplotlib.axis.XTick at 0x7fe92ebfdbe0>],\n",
       " [Text(0, 0, 'Corrected captions'), Text(1, 0, 'Automatic captions')])"
      ]
     },
     "execution_count": 99,
     "metadata": {},
     "output_type": "execute_result"
    },
    {
     "data": {
      "text/plain": [
       "Text(0.5, 1.0, 'Average characters per seconds')"
      ]
     },
     "execution_count": 99,
     "metadata": {},
     "output_type": "execute_result"
    },
    {
     "data": {
      "text/plain": [
       "Text(0.5, 0, 'Caption type')"
      ]
     },
     "execution_count": 99,
     "metadata": {},
     "output_type": "execute_result"
    },
    {
     "data": {
      "text/plain": [
       "Text(0, 0.5, 'Characters per Second')"
      ]
     },
     "execution_count": 99,
     "metadata": {},
     "output_type": "execute_result"
    },
    {
     "data": {
      "text/plain": [
       "(0.5, 13.65)"
      ]
     },
     "execution_count": 99,
     "metadata": {},
     "output_type": "execute_result"
    },
    {
     "data": {
      "image/png": "[encoded data removed]",
      "text/plain": [
       "<Figure size 360x360 with 1 Axes>"
      ]
     },
     "metadata": {},
     "output_type": "display_data"
    }
   ],
   "source": [
    "plt.figure(figsize=(5, 5))\n",
    "\n",
    "chart = sns.barplot(x=names, y=vector, palette='RdBu')\n",
    "\n",
    "plt.xticks(y_pos, names, rotation=45)\n",
    "plt.title('Average characters per seconds', fontsize=14)\n",
    "plt.xlabel('Caption type', fontsize=12)\n",
    "plt.ylabel('Characters per Second', fontsize=12)\n",
    "plt.ylim(.5)\n",
    "plt.show()\n",
    "\n",
    "fig = chart.get_figure()\n",
    "fig.savefig('average_wps.png')"
   ]
  },
  {
   "cell_type": "code",
   "execution_count": null,
   "metadata": {},
   "outputs": [],
   "source": []
  },
  {
   "cell_type": "markdown",
   "metadata": {},
   "source": [
    "### References"
   ]
  },
  {
   "cell_type": "markdown",
   "metadata": {},
   "source": [
    "Onofrey, E. (2019) Analyzing Movie Dialog Speed with Python. \n",
    "\n",
    "https://towardsdatascience.com/analyzing-movie-dialog-speed-with-python-79a8a8a286e8\n",
    "\n",
    "https://github.com/eonofrey/movie_word_counts"
   ]
  }
 ],
 "metadata": {
  "kernelspec": {
   "display_name": "Python 3",
   "language": "python",
   "name": "python3"
  },
  "language_info": {
   "codemirror_mode": {
    "name": "ipython",
    "version": 3
   },
   "file_extension": ".py",
   "mimetype": "text/x-python",
   "name": "python",
   "nbconvert_exporter": "python",
   "pygments_lexer": "ipython3",
   "version": "3.8.5"
  }
 },
 "nbformat": 4,
 "nbformat_minor": 4
}
