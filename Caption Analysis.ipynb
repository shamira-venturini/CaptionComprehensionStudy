{
 "cells": [
  {
   "cell_type": "markdown",
   "metadata": {},
   "source": [
    "### Imports"
   ]
  },
  {
   "cell_type": "code",
   "execution_count": 895,
   "metadata": {},
   "outputs": [],
   "source": [
    "import pandas as pd\n",
    "import re \n",
    "import numpy as np\n",
    "from datetime import datetime\n",
    "import matplotlib.pyplot as plt\n",
    "import seaborn as sns\n",
    "\n",
    "\n",
    "from IPython.core.interactiveshell import InteractiveShell\n",
    "InteractiveShell.ast_node_interactivity = \"all\""
   ]
  },
  {
   "cell_type": "markdown",
   "metadata": {},
   "source": [
    "### Functions"
   ]
  },
  {
   "cell_type": "code",
   "execution_count": 896,
   "metadata": {},
   "outputs": [],
   "source": [
    "def get_wpm(df):\n",
    "    \"\"\"\n",
    "    Get the average words per minute for the entire movie\n",
    "    \"\"\"\n",
    "    seconds = df.tail(1).index.values[0]\n",
    "    words = df.tail(1).values[0][0]\n",
    "    \n",
    "    return round(words/seconds*60,2)"
   ]
  },
  {
   "cell_type": "code",
   "execution_count": 897,
   "metadata": {},
   "outputs": [],
   "source": [
    "def clean_text(line):\n",
    "    \"\"\"\n",
    "    General string cleaning for these files\n",
    "    Removes html tags, leading dashes, and all scenn descriptors ex: (MUSIC IN BACKGROUND)\n",
    "    \"\"\"\n",
    "    clean = line.strip().replace('</i>', '').replace('<i>','').replace('- ', '')\n",
    "    \n",
    "    clean = re.sub('\\(.*\\)','', clean)\n",
    "    clean = re.sub('\\[.*\\]','', clean)\n",
    "    clean = re.sub('♪', '', clean)\n",
    "    \n",
    "    return(clean)"
   ]
  },
  {
   "cell_type": "code",
   "execution_count": 898,
   "metadata": {},
   "outputs": [],
   "source": [
    "def is_time(line): \n",
    "    \"\"\"\n",
    "    Checks the current line to see if it's the time of the scene \n",
    "    \"\"\"\n",
    "    if re.match(\"[0-9][0-9]:\", line):\n",
    "        out = True\n",
    "    else:\n",
    "        out = False\n",
    "        \n",
    "    return out"
   ]
  },
  {
   "cell_type": "code",
   "execution_count": 899,
   "metadata": {},
   "outputs": [],
   "source": [
    "def get_scene_end(line): \n",
    "    \"\"\"\n",
    "    Grab the end time of a frame's subtitles\n",
    "    \"\"\"\n",
    "    line = line.strip()\n",
    "    end = line.split(' --> ')[1]\n",
    "    \n",
    "    end_dt = datetime.strptime(end, '%H:%M:%S,%f')\n",
    "    \n",
    "    return(end_dt)"
   ]
  },
  {
   "cell_type": "code",
   "execution_count": 900,
   "metadata": {},
   "outputs": [],
   "source": [
    "def count_words(line):\n",
    "    \"\"\"\n",
    "    Count the number of words in a line\n",
    "    \"\"\"\n",
    "    out = len(re.findall(r'\\W+', line))\n",
    "    return out"
   ]
  },
  {
   "cell_type": "code",
   "execution_count": 901,
   "metadata": {},
   "outputs": [],
   "source": [
    "def count_lines(file_path):\n",
    "    \"\"\"\n",
    "    Count the number of lines in a file\n",
    "    \"\"\"\n",
    "    new_lines = []\n",
    "    \n",
    "    with open(file_path, \"r\") as file: \n",
    "        # Read in all the lines\n",
    "        lines = file.readlines()\n",
    "\n",
    "        # Skip the first line with the weird /ueff stuff\n",
    "        lines = lines[1:]\n",
    "\n",
    "        # Start the loop \n",
    "        for line in lines: \n",
    "            \n",
    "            if re.search(r\"[0-9]\", line):\n",
    "                continue\n",
    "            elif line == '\\n':\n",
    "                continue\n",
    "            else:\n",
    "                new_lines.append(line)\n",
    "                \n",
    "    total_lines = 0\n",
    "    \n",
    "    for line in new_lines:\n",
    "        total_lines += 1\n",
    "                \n",
    "            \n",
    "    return total_lines"
   ]
  },
  {
   "cell_type": "code",
   "execution_count": 902,
   "metadata": {},
   "outputs": [],
   "source": [
    "def parse_file(file_path):    \n",
    "    \"\"\"\n",
    "    Main function for parsing a file it works as follow: \n",
    "        1. Open the file and read each line \n",
    "        2. Clean each line as you go \n",
    "        3. If it's just a subtitle number skip it\n",
    "        4. If it's a timestamp, grab the end time of the scene\n",
    "        5. If it's text, count the number of words \n",
    "    \"\"\"\n",
    "    \n",
    "    base_time = datetime(1900, 1, 1, 0, 0, 0, 0)\n",
    "    total_time = 0\n",
    "    total_words = 0 \n",
    "    dict_list = []\n",
    "\n",
    "\n",
    "    with open(file_path, \"r\") as file: \n",
    "        # Read in all the lines\n",
    "        lines = file.readlines()\n",
    "\n",
    "        # Skip the first line with the weird /ueff stuff\n",
    "        lines = lines[1:]\n",
    "\n",
    "        # Start the loop \n",
    "        for line in lines: \n",
    "            line = clean_text(line)\n",
    "                \n",
    "\n",
    "            if line and (not line.isnumeric()): # skips the blank and line number\n",
    "              \n",
    "                if is_time(line):\n",
    "                    total_time = (get_scene_end(line) - base_time).seconds\n",
    "                else:\n",
    "                    total_words += count_words(line)\n",
    "                  \n",
    "                    \n",
    "\n",
    "            d = {\n",
    "                'seconds': total_time, \n",
    "                'word_count': total_words,\n",
    "                \n",
    "            }\n",
    "\n",
    "            dict_list.append(d)        \n",
    "\n",
    "\n",
    "    # Create fivethirtyeight dataframe\n",
    "    script_df = pd.DataFrame(dict_list)\n",
    "    script_df = pd.DataFrame(script_df.groupby(['seconds'])['word_count'].max())\n",
    "\n",
    "    return script_df"
   ]
  },
  {
   "cell_type": "code",
   "execution_count": 903,
   "metadata": {},
   "outputs": [],
   "source": [
    "def total_characters(file_path):\n",
    "    \"\"\"\n",
    "    Count the number of characters in a file\n",
    "    \"\"\"\n",
    "    with open(file_path, \"r\") as file: \n",
    "        # Read in all the lines\n",
    "        lines = file.read()\n",
    "        # Start the loop \n",
    "        for line in lines: \n",
    "            line = clean_text(line)\n",
    "                \n",
    "\n",
    "            if line and (not line.isnumeric()): # skips the blank and line number\n",
    "                    total_ch = len(lines) \n",
    "                    \n",
    "    return total_ch"
   ]
  },
  {
   "cell_type": "markdown",
   "metadata": {},
   "source": [
    "### Parsing: lines and words"
   ]
  },
  {
   "cell_type": "code",
   "execution_count": 904,
   "metadata": {},
   "outputs": [
    {
     "name": "stdout",
     "output_type": "stream",
     "text": [
      "The video contains 359 corrected captions and 280 automatic captions\n"
     ]
    }
   ],
   "source": [
    "total_humcc = count_lines('hum.srt')\n",
    "total_autocc = count_lines('auto.srt')\n",
    "\n",
    "print('The video contains {} corrected captions and {} automatic captions'.format(total_humcc, \n",
    "                                                                                 total_autocc))"
   ]
  },
  {
   "cell_type": "code",
   "execution_count": 905,
   "metadata": {},
   "outputs": [],
   "source": [
    "#word count over time\n",
    "humcc = parse_file(\"hum.srt\") \n",
    "autocc = parse_file(\"auto.srt\")"
   ]
  },
  {
   "cell_type": "code",
   "execution_count": 906,
   "metadata": {},
   "outputs": [
    {
     "name": "stdout",
     "output_type": "stream",
     "text": [
      "Corrected captions are 15584 characters long\n",
      "Automatic captions are 18110 characters long\n"
     ]
    }
   ],
   "source": [
    "total_humch = total_characters(\"hum.srt\")\n",
    "total_autoch = total_characters(\"auto.srt\")\n",
    "\n",
    "print(\"Corrected captions are {} characters long\".format(total_humch))\n",
    "print(\"Automatic captions are {} characters long\".format(total_autoch))"
   ]
  },
  {
   "cell_type": "code",
   "execution_count": 907,
   "metadata": {},
   "outputs": [
    {
     "name": "stdout",
     "output_type": "stream",
     "text": [
      "On average each corrected caption stays on the screen for 2 seconds\n",
      "On average each corrected caption stays on the screen for 2 seconds\n"
     ]
    }
   ],
   "source": [
    "print('On average each corrected caption stays on the screen for {} seconds'\n",
    "      .format(round(544.4/total_humcc)))\n",
    "print('On average each corrected caption stays on the screen for {} seconds'\n",
    "      .format(round(556.2/total_autocc)))"
   ]
  },
  {
   "cell_type": "markdown",
   "metadata": {},
   "source": [
    "# Readibility"
   ]
  },
  {
   "cell_type": "markdown",
   "metadata": {},
   "source": [
    "### Word and character count over time"
   ]
  },
  {
   "cell_type": "code",
   "execution_count": 908,
   "metadata": {},
   "outputs": [
    {
     "data": {
      "text/plain": [
       "[<matplotlib.lines.Line2D at 0x7f9a1c536970>]"
      ]
     },
     "execution_count": 908,
     "metadata": {},
     "output_type": "execute_result"
    },
    {
     "data": {
      "text/plain": [
       "[<matplotlib.lines.Line2D at 0x7f9a1c536e20>]"
      ]
     },
     "execution_count": 908,
     "metadata": {},
     "output_type": "execute_result"
    },
    {
     "data": {
      "text/plain": [
       "Text(0.5, 1.0, 'Video Word Count over Time')"
      ]
     },
     "execution_count": 908,
     "metadata": {},
     "output_type": "execute_result"
    },
    {
     "data": {
      "text/plain": [
       "Text(0.5, 0, 'Seconds')"
      ]
     },
     "execution_count": 908,
     "metadata": {},
     "output_type": "execute_result"
    },
    {
     "data": {
      "text/plain": [
       "Text(0, 0.5, 'Word Count')"
      ]
     },
     "execution_count": 908,
     "metadata": {},
     "output_type": "execute_result"
    },
    {
     "data": {
      "text/plain": [
       "(-30.0, 597.3)"
      ]
     },
     "execution_count": 908,
     "metadata": {},
     "output_type": "execute_result"
    },
    {
     "data": {
      "text/plain": [
       "(-50.0, 1442.7)"
      ]
     },
     "execution_count": 908,
     "metadata": {},
     "output_type": "execute_result"
    },
    {
     "data": {
      "text/plain": [
       "<matplotlib.legend.Legend at 0x7f9a1c43fc10>"
      ]
     },
     "execution_count": 908,
     "metadata": {},
     "output_type": "execute_result"
    },
    {
     "data": {
      "image/png": "[encoded data removed]",
      "text/plain": [
       "<Figure size 720x360 with 1 Axes>"
      ]
     },
     "metadata": {},
     "output_type": "display_data"
    }
   ],
   "source": [
    "plt.style.use('seaborn-white')\n",
    "\n",
    "fig, ax = plt.subplots()\n",
    "fig.set_size_inches(10, 5)\n",
    "width = 2\n",
    "\n",
    "ax.plot(humcc.word_count, linewidth=width)\n",
    "ax.plot(autocc.word_count, linewidth=width)\n",
    "\n",
    "ax.set_title('Video Word Count over Time', fontsize=13)\n",
    "ax.set_xlabel('Seconds', fontsize = 10)\n",
    "ax.set_ylabel('Word Count', fontsize = 10)\n",
    "\n",
    "ax.set_xlim(-30)\n",
    "ax.set_ylim(-50)\n",
    "\n",
    "ax.legend(labels = ['Corrected captions', \n",
    "            'Automatic captions'])\n",
    "\n",
    "plt.show()\n",
    "fig.savefig('total_view.png')"
   ]
  },
  {
   "cell_type": "markdown",
   "metadata": {},
   "source": [
    "After ca 3 minutes the audio was transcribed using more words than the automatically generated ones."
   ]
  },
  {
   "cell_type": "markdown",
   "metadata": {},
   "source": [
    "## WPM and CPS"
   ]
  },
  {
   "cell_type": "code",
   "execution_count": 909,
   "metadata": {},
   "outputs": [],
   "source": [
    "humcc_wpm =  round(get_wpm(humcc))\n",
    "autocc_wpm =  round(get_wpm(autocc))\n",
    "\n",
    "humcc_cps = round(humcc_wpm * 5.0 / 60.00) #converting wpm into cps\n",
    "autocc_cps = round(autocc_wpm * 5.0 / 60.0)"
   ]
  },
  {
   "cell_type": "code",
   "execution_count": 910,
   "metadata": {},
   "outputs": [
    {
     "name": "stdout",
     "output_type": "stream",
     "text": [
      "Corrected captions display 145 wpm and 12 cps\n",
      "Automatic captions display 143 wpm and 12 cps\n"
     ]
    }
   ],
   "source": [
    "print(\"Corrected captions display {} wpm and {} cps\".format(humcc_wpm, humcc_cps))\n",
    "print(\"Automatic captions display {} wpm and {} cps\".format(autocc_wpm, autocc_cps))"
   ]
  },
  {
   "cell_type": "markdown",
   "metadata": {},
   "source": [
    "### WPM Plot"
   ]
  },
  {
   "cell_type": "code",
   "execution_count": 911,
   "metadata": {},
   "outputs": [],
   "source": [
    "vector = [autocc_wpm, humcc_wpm]\n",
    "\n",
    "names = ['Automatic captions',\n",
    "        'Corrected captions']\n",
    "\n",
    "y_pos = np.arange(len(vector))"
   ]
  },
  {
   "cell_type": "code",
   "execution_count": 912,
   "metadata": {
    "scrolled": true
   },
   "outputs": [
    {
     "data": {
      "text/plain": [
       "<Figure size 360x360 with 0 Axes>"
      ]
     },
     "execution_count": 912,
     "metadata": {},
     "output_type": "execute_result"
    },
    {
     "data": {
      "text/plain": [
       "([<matplotlib.axis.XTick at 0x7f9a1c70aa30>,\n",
       "  <matplotlib.axis.XTick at 0x7f9a1c70aa00>],\n",
       " [Text(0, 0, 'Automatic captions'), Text(1, 0, 'Corrected captions')])"
      ]
     },
     "execution_count": 912,
     "metadata": {},
     "output_type": "execute_result"
    },
    {
     "data": {
      "text/plain": [
       "Text(0.5, 1.0, 'Average words per minute')"
      ]
     },
     "execution_count": 912,
     "metadata": {},
     "output_type": "execute_result"
    },
    {
     "data": {
      "text/plain": [
       "Text(0.5, 0, 'Caption type')"
      ]
     },
     "execution_count": 912,
     "metadata": {},
     "output_type": "execute_result"
    },
    {
     "data": {
      "text/plain": [
       "Text(0, 0.5, 'Words per minute')"
      ]
     },
     "execution_count": 912,
     "metadata": {},
     "output_type": "execute_result"
    },
    {
     "data": {
      "text/plain": [
       "(0.5, 152.25)"
      ]
     },
     "execution_count": 912,
     "metadata": {},
     "output_type": "execute_result"
    },
    {
     "data": {
      "image/png": "[encoded data removed]",
      "text/plain": [
       "<Figure size 360x360 with 1 Axes>"
      ]
     },
     "metadata": {},
     "output_type": "display_data"
    }
   ],
   "source": [
    "plt.figure(figsize=(5, 5))\n",
    "\n",
    "chart = sns.barplot(x=names, y=vector, palette='RdBu')\n",
    "\n",
    "plt.xticks(y_pos, names, rotation=45)\n",
    "plt.title('Average words per minute', fontsize=14)\n",
    "plt.xlabel('Caption type', fontsize=12)\n",
    "plt.ylabel('Words per minute', fontsize=12)\n",
    "plt.ylim(.5)\n",
    "plt.show()\n",
    "\n",
    "fig = chart.get_figure()\n",
    "fig.savefig('average_wpm.png')"
   ]
  },
  {
   "cell_type": "markdown",
   "metadata": {},
   "source": [
    "### CPS Plot"
   ]
  },
  {
   "cell_type": "code",
   "execution_count": 913,
   "metadata": {},
   "outputs": [],
   "source": [
    "vector = [autocc_cps, humcc_cps]\n",
    "\n",
    "names = ['Automatic captions',\n",
    "        'Corrected captions']\n",
    "\n",
    "y_pos = np.arange(len(vector))"
   ]
  },
  {
   "cell_type": "code",
   "execution_count": 914,
   "metadata": {},
   "outputs": [
    {
     "data": {
      "text/plain": [
       "<Figure size 360x360 with 0 Axes>"
      ]
     },
     "execution_count": 914,
     "metadata": {},
     "output_type": "execute_result"
    },
    {
     "data": {
      "text/plain": [
       "([<matplotlib.axis.XTick at 0x7f9a1a4afd00>,\n",
       "  <matplotlib.axis.XTick at 0x7f9a1a4af070>],\n",
       " [Text(0, 0, 'Automatic captions'), Text(1, 0, 'Corrected captions')])"
      ]
     },
     "execution_count": 914,
     "metadata": {},
     "output_type": "execute_result"
    },
    {
     "data": {
      "text/plain": [
       "Text(0.5, 1.0, 'Average characters per seconds')"
      ]
     },
     "execution_count": 914,
     "metadata": {},
     "output_type": "execute_result"
    },
    {
     "data": {
      "text/plain": [
       "Text(0.5, 0, 'Caption type')"
      ]
     },
     "execution_count": 914,
     "metadata": {},
     "output_type": "execute_result"
    },
    {
     "data": {
      "text/plain": [
       "Text(0, 0.5, 'Characters per Second')"
      ]
     },
     "execution_count": 914,
     "metadata": {},
     "output_type": "execute_result"
    },
    {
     "data": {
      "text/plain": [
       "(0.5, 12.6)"
      ]
     },
     "execution_count": 914,
     "metadata": {},
     "output_type": "execute_result"
    },
    {
     "data": {
      "image/png": "[encoded data removed]",
      "text/plain": [
       "<Figure size 360x360 with 1 Axes>"
      ]
     },
     "metadata": {},
     "output_type": "display_data"
    }
   ],
   "source": [
    "plt.figure(figsize=(5, 5))\n",
    "\n",
    "chart = sns.barplot(x=names, y=vector, palette='RdBu')\n",
    "\n",
    "plt.xticks(y_pos, names, rotation=45)\n",
    "plt.title('Average characters per seconds', fontsize=14)\n",
    "plt.xlabel('Caption type', fontsize=12)\n",
    "plt.ylabel('Characters per Second', fontsize=12)\n",
    "plt.ylim(.5)\n",
    "plt.show()\n",
    "\n",
    "fig = chart.get_figure()\n",
    "fig.savefig('average_wps.png')"
   ]
  },
  {
   "cell_type": "markdown",
   "metadata": {},
   "source": [
    "## ASR EVALUATION"
   ]
  },
  {
   "cell_type": "markdown",
   "metadata": {},
   "source": [
    "### Imports"
   ]
  },
  {
   "cell_type": "code",
   "execution_count": 915,
   "metadata": {},
   "outputs": [],
   "source": [
    "from jiwer import wer\n",
    "import nltk\n",
    "import jiwer\n",
    "from nltk.corpus import wordnet, stopwords\n",
    "import collections\n",
    "import contractions \n",
    "import num2words\n",
    "from string import punctuation"
   ]
  },
  {
   "cell_type": "markdown",
   "metadata": {},
   "source": [
    "### Functions"
   ]
  },
  {
   "cell_type": "code",
   "execution_count": 916,
   "metadata": {},
   "outputs": [],
   "source": [
    "def normalisation(file_path):\n",
    "\n",
    "    with open(file_path, \"r\") as file: \n",
    "        lines = file.read()\n",
    "        lines = re.sub(r\"\\b[A-Z]{3,}\\b\", \"\", lines) #removing uppercase words\n",
    "        \n",
    "        my_punctuation = punctuation.replace(\"'\", \"\") #removing punctuation except for apostrophe\n",
    "        text = lines.translate(str.maketrans(\"\", \"\", my_punctuation))\n",
    "        text = \" \".join(re.split(r\"\\W+\", text))\n",
    "\n",
    "        \n",
    "    return text.lower()"
   ]
  },
  {
   "cell_type": "code",
   "execution_count": 917,
   "metadata": {},
   "outputs": [],
   "source": [
    "def content(file_path):\n",
    "    \"\"\"This function filters out \n",
    "    function words and keeps only content words\"\"\"\n",
    "    \n",
    "    file = normalisation(file_path)\n",
    "    \n",
    "    lemmatizer = nltk.WordNetLemmatizer()\n",
    "        \n",
    "    is_content = lambda pos: pos[:2] in [\"NN\", \"ADJ\", \"ADV\", \"VERB\"]\n",
    "        \n",
    "    clean = [lemmatizer.lemmatize(word) for (word, pos) \n",
    "                                 in nltk.pos_tag(nltk.word_tokenize(file)) if is_content(pos)]\n",
    "    \n",
    "    clean = \" \".join([word for word in clean if len(word) > 3 \n",
    "                      and word not in [\"whoa\", \"yeah\", \"okay\", \"well\"]])\n",
    "    \n",
    "    clean = \" \".join([word for word in re.split(r\"\\W+\", clean)])\n",
    "    \n",
    "    return clean"
   ]
  },
  {
   "cell_type": "markdown",
   "metadata": {},
   "source": [
    "### WER, MER, WIL, WIP"
   ]
  },
  {
   "cell_type": "code",
   "execution_count": 918,
   "metadata": {},
   "outputs": [],
   "source": [
    "ref = normalisation(\"ref.txt\")\n",
    "hyp1 = normalisation(\"hum.txt\")\n",
    "hyp2 = normalisation(\"auto.txt\")"
   ]
  },
  {
   "cell_type": "markdown",
   "metadata": {},
   "source": [
    "### Reference vs corrected captions"
   ]
  },
  {
   "cell_type": "code",
   "execution_count": 919,
   "metadata": {},
   "outputs": [
    {
     "name": "stdout",
     "output_type": "stream",
     "text": [
      "N reference:     1691\n",
      "N hypothesis:    1542\n",
      "\n",
      "wer              15%\n",
      "mer              15%\n",
      "wil              20%\n",
      "wip              80%\n",
      "hits             86%\n",
      "substitutions    5%\n",
      "deletions        10%\n",
      "insertions       1%\n"
     ]
    }
   ],
   "source": [
    "\n",
    "measures1 = jiwer.compute_measures(ref, hyp1)\n",
    "\n",
    "print(\"{0:15}  {1}\".format('N reference:', count_words(ref)))\n",
    "print(\"{0:15}  {1}\".format('N hypothesis:', count_words(hyp1)))\n",
    "\n",
    "print( )\n",
    "\n",
    "for measure, val in measures1.items():\n",
    "    if measure in [\"wer\", \"mer\", \"wil\", \"wip\"]:\n",
    "        print(\"{0:15}  {1}%\".format(measure, round(val*100)))\n",
    "    else:\n",
    "        print(\"{0:15}  {1}%\".format(measure, round(val / count_words(ref)*100)))\n"
   ]
  },
  {
   "cell_type": "code",
   "execution_count": 920,
   "metadata": {},
   "outputs": [],
   "source": [
    "vector = [val for measure, val in measures1.items() \n",
    "          if measure not in [\"wer\", \"mer\", \"wil\", \"wip\"]]\n",
    "\n",
    "names = [\"hits\", \"subs\", \"del\", \"ins\"]\n",
    "\n",
    "y_pos = np.arange(len(vector))"
   ]
  },
  {
   "cell_type": "code",
   "execution_count": 921,
   "metadata": {
    "scrolled": true
   },
   "outputs": [
    {
     "data": {
      "text/plain": [
       "<Figure size 360x360 with 0 Axes>"
      ]
     },
     "execution_count": 921,
     "metadata": {},
     "output_type": "execute_result"
    },
    {
     "data": {
      "text/plain": [
       "([<matplotlib.axis.XTick at 0x7f9a1c794a90>,\n",
       "  <matplotlib.axis.XTick at 0x7f9a1c794a60>,\n",
       "  <matplotlib.axis.XTick at 0x7f9a1c7b15e0>,\n",
       "  <matplotlib.axis.XTick at 0x7f9a1cb9da30>],\n",
       " [Text(0, 0, 'hits'),\n",
       "  Text(1, 0, 'subs'),\n",
       "  Text(2, 0, 'del'),\n",
       "  Text(3, 0, 'ins')])"
      ]
     },
     "execution_count": 921,
     "metadata": {},
     "output_type": "execute_result"
    },
    {
     "data": {
      "text/plain": [
       "Text(0.5, 1.0, 'Corrected transcription')"
      ]
     },
     "execution_count": 921,
     "metadata": {},
     "output_type": "execute_result"
    },
    {
     "data": {
      "text/plain": [
       "Text(0.5, 0, 'Measures')"
      ]
     },
     "execution_count": 921,
     "metadata": {},
     "output_type": "execute_result"
    },
    {
     "data": {
      "text/plain": [
       "Text(0, 0.5, 'Number of words')"
      ]
     },
     "execution_count": 921,
     "metadata": {},
     "output_type": "execute_result"
    },
    {
     "data": {
      "text/plain": [
       "(0.5, 1518.3)"
      ]
     },
     "execution_count": 921,
     "metadata": {},
     "output_type": "execute_result"
    },
    {
     "data": {
      "image/png": "[encoded data removed]",
      "text/plain": [
       "<Figure size 360x360 with 1 Axes>"
      ]
     },
     "metadata": {},
     "output_type": "display_data"
    }
   ],
   "source": [
    "plt.figure(figsize=(5, 5))\n",
    "\n",
    "chart = sns.barplot(x=names, y=vector, palette='RdBu')\n",
    "\n",
    "plt.xticks(y_pos, names, rotation=45)\n",
    "plt.title('Corrected transcription', fontsize=14)\n",
    "plt.xlabel('Measures', fontsize=12)\n",
    "plt.ylabel('Number of words', fontsize=12)\n",
    "plt.ylim(.5)\n",
    "plt.show()\n",
    "\n",
    "fig = chart.get_figure()"
   ]
  },
  {
   "cell_type": "markdown",
   "metadata": {},
   "source": [
    "### Reference vs aumated captions"
   ]
  },
  {
   "cell_type": "code",
   "execution_count": 922,
   "metadata": {},
   "outputs": [
    {
     "name": "stdout",
     "output_type": "stream",
     "text": [
      "N reference:     1691\n",
      "N hypothesis:    1667\n",
      "\n",
      "wer              7%\n",
      "mer              7%\n",
      "wil              10%\n",
      "wip              90%\n",
      "hits             94%\n",
      "substitutions    4%\n",
      "deletions        2%\n",
      "insertions       1%\n"
     ]
    }
   ],
   "source": [
    "\n",
    "measures2 = jiwer.compute_measures(ref, hyp2)\n",
    "\n",
    "print(\"{0:15}  {1}\".format('N reference:', count_words(ref)))\n",
    "print(\"{0:15}  {1}\".format('N hypothesis:', count_words(hyp2)))\n",
    "\n",
    "print( )\n",
    "\n",
    "for measure, val in measures2.items():\n",
    "    if measure in [\"wer\", \"mer\", \"wil\", \"wip\"]:\n",
    "        print(\"{0:15}  {1}%\".format(measure, round(val*100)))\n",
    "    else:\n",
    "        print(\"{0:15}  {1}%\".format(measure, round(val / count_words(ref)*100)))\n"
   ]
  },
  {
   "cell_type": "code",
   "execution_count": 923,
   "metadata": {},
   "outputs": [],
   "source": [
    "vector = [val for measure, val in measures2.items() \n",
    "          if measure not in [\"wer\", \"mer\", \"wil\", \"wip\"]]\n",
    "\n",
    "names = [\"hits\", \"subs\", \"del\", \"ins\"]\n",
    "\n",
    "y_pos = np.arange(len(vector))"
   ]
  },
  {
   "cell_type": "code",
   "execution_count": 924,
   "metadata": {},
   "outputs": [
    {
     "data": {
      "text/plain": [
       "<Figure size 360x360 with 0 Axes>"
      ]
     },
     "execution_count": 924,
     "metadata": {},
     "output_type": "execute_result"
    },
    {
     "data": {
      "text/plain": [
       "([<matplotlib.axis.XTick at 0x7f9a1a4a4fd0>,\n",
       "  <matplotlib.axis.XTick at 0x7f9a1a4a4a00>,\n",
       "  <matplotlib.axis.XTick at 0x7f9a1c2ce190>,\n",
       "  <matplotlib.axis.XTick at 0x7f9a1c5b94f0>],\n",
       " [Text(0, 0, 'hits'),\n",
       "  Text(1, 0, 'subs'),\n",
       "  Text(2, 0, 'del'),\n",
       "  Text(3, 0, 'ins')])"
      ]
     },
     "execution_count": 924,
     "metadata": {},
     "output_type": "execute_result"
    },
    {
     "data": {
      "text/plain": [
       "Text(0.5, 1.0, 'Automatic transcription')"
      ]
     },
     "execution_count": 924,
     "metadata": {},
     "output_type": "execute_result"
    },
    {
     "data": {
      "text/plain": [
       "Text(0.5, 0, 'Measures')"
      ]
     },
     "execution_count": 924,
     "metadata": {},
     "output_type": "execute_result"
    },
    {
     "data": {
      "text/plain": [
       "Text(0, 0.5, 'Number of words')"
      ]
     },
     "execution_count": 924,
     "metadata": {},
     "output_type": "execute_result"
    },
    {
     "data": {
      "text/plain": [
       "(0.5, 1669.5)"
      ]
     },
     "execution_count": 924,
     "metadata": {},
     "output_type": "execute_result"
    },
    {
     "data": {
      "image/png": "[encoded data removed]",
      "text/plain": [
       "<Figure size 360x360 with 1 Axes>"
      ]
     },
     "metadata": {},
     "output_type": "display_data"
    }
   ],
   "source": [
    "plt.figure(figsize=(5, 5))\n",
    "\n",
    "chart = sns.barplot(x=names, y=vector, palette='RdBu')\n",
    "\n",
    "plt.xticks(y_pos, names, rotation=45)\n",
    "plt.title('Automatic transcription', fontsize=14)\n",
    "plt.xlabel('Measures', fontsize=12)\n",
    "plt.ylabel('Number of words', fontsize=12)\n",
    "plt.ylim(.5)\n",
    "plt.show()\n",
    "\n",
    "fig = chart.get_figure()"
   ]
  },
  {
   "cell_type": "markdown",
   "metadata": {},
   "source": [
    "## Evaluation on content words only"
   ]
  },
  {
   "cell_type": "code",
   "execution_count": 925,
   "metadata": {},
   "outputs": [],
   "source": [
    "ref = content(\"ref.txt\")\n",
    "hyp1 = content(\"hum.txt\")\n",
    "hyp2 = content(\"auto.txt\")"
   ]
  },
  {
   "cell_type": "markdown",
   "metadata": {},
   "source": [
    "### Reference vs corrected captions"
   ]
  },
  {
   "cell_type": "code",
   "execution_count": 926,
   "metadata": {},
   "outputs": [
    {
     "name": "stdout",
     "output_type": "stream",
     "text": [
      "N reference:     253\n",
      "N hypothesis:    254\n",
      "\n",
      "wer              11%\n",
      "mer              10%\n",
      "wil              14%\n",
      "wip              86%\n",
      "hits             93%\n",
      "substitutions    4%\n",
      "deletions        3%\n",
      "insertions       4%\n"
     ]
    }
   ],
   "source": [
    "measures3 = jiwer.compute_measures(ref, hyp1)\n",
    "\n",
    "print(\"{0:15}  {1}\".format('N reference:', count_words(ref)))\n",
    "print(\"{0:15}  {1}\".format('N hypothesis:', count_words(hyp1)))\n",
    "\n",
    "print( )\n",
    "\n",
    "for measure, val in measures3.items():\n",
    "    if measure in [\"wer\", \"mer\", \"wil\", \"wip\"]:\n",
    "        print(\"{0:15}  {1}%\".format(measure, round(val*100)))\n",
    "    else:\n",
    "        print(\"{0:15}  {1}%\".format(measure, round(val / count_words(ref)*100)))\n"
   ]
  },
  {
   "cell_type": "code",
   "execution_count": 933,
   "metadata": {},
   "outputs": [],
   "source": [
    "vector = [val for measure, val in measures3.items() \n",
    "          if measure not in [\"wer\", \"mer\", \"wil\", \"wip\"]]\n",
    "\n",
    "names = [\"hits\", \"subs\", \"del\", \"ins\"]\n",
    "\n",
    "y_pos = np.arange(len(vector))"
   ]
  },
  {
   "cell_type": "code",
   "execution_count": 937,
   "metadata": {},
   "outputs": [
    {
     "data": {
      "text/plain": [
       "<Figure size 360x360 with 0 Axes>"
      ]
     },
     "execution_count": 937,
     "metadata": {},
     "output_type": "execute_result"
    },
    {
     "data": {
      "text/plain": [
       "([<matplotlib.axis.XTick at 0x7f9a192a37f0>,\n",
       "  <matplotlib.axis.XTick at 0x7f9a192a3100>,\n",
       "  <matplotlib.axis.XTick at 0x7f9a1a217160>,\n",
       "  <matplotlib.axis.XTick at 0x7f9a19f60670>],\n",
       " [Text(0, 0, 'hits'),\n",
       "  Text(1, 0, 'subs'),\n",
       "  Text(2, 0, 'del'),\n",
       "  Text(3, 0, 'ins')])"
      ]
     },
     "execution_count": 937,
     "metadata": {},
     "output_type": "execute_result"
    },
    {
     "data": {
      "text/plain": [
       "Text(0.5, 1.0, 'Corrected transcription')"
      ]
     },
     "execution_count": 937,
     "metadata": {},
     "output_type": "execute_result"
    },
    {
     "data": {
      "text/plain": [
       "Text(0.5, 0, 'Measures')"
      ]
     },
     "execution_count": 937,
     "metadata": {},
     "output_type": "execute_result"
    },
    {
     "data": {
      "text/plain": [
       "Text(0, 0.5, 'Number of words')"
      ]
     },
     "execution_count": 937,
     "metadata": {},
     "output_type": "execute_result"
    },
    {
     "data": {
      "text/plain": [
       "(0.5, 216.3)"
      ]
     },
     "execution_count": 937,
     "metadata": {},
     "output_type": "execute_result"
    },
    {
     "data": {
      "image/png": "[encoded data removed]",
      "text/plain": [
       "<Figure size 360x360 with 1 Axes>"
      ]
     },
     "metadata": {},
     "output_type": "display_data"
    }
   ],
   "source": [
    "plt.figure(figsize=(5, 5))\n",
    "\n",
    "chart = sns.barplot(x=names, y=vector, palette='RdBu')\n",
    "\n",
    "plt.xticks(y_pos, names, rotation=45)\n",
    "plt.title('Corrected transcription', fontsize=14)\n",
    "plt.xlabel('Measures', fontsize=12)\n",
    "plt.ylabel('Number of words', fontsize=12)\n",
    "plt.ylim(.5)\n",
    "plt.show()\n",
    "\n",
    "fig = chart.get_figure()"
   ]
  },
  {
   "cell_type": "code",
   "execution_count": 927,
   "metadata": {},
   "outputs": [
    {
     "name": "stdout",
     "output_type": "stream",
     "text": [
      "N reference:     253\n",
      "N hypothesis:    242\n",
      "\n",
      "wer              20%\n",
      "mer              20%\n",
      "wil              31%\n",
      "wip              69%\n",
      "hits             81%\n",
      "substitutions    13%\n",
      "deletions        6%\n",
      "insertions       1%\n"
     ]
    }
   ],
   "source": [
    "measures4 = jiwer.compute_measures(ref, hyp2)\n",
    "\n",
    "print(\"{0:15}  {1}\".format('N reference:', count_words(ref)))\n",
    "print(\"{0:15}  {1}\".format('N hypothesis:', count_words(hyp2)))\n",
    "\n",
    "print( )\n",
    "\n",
    "for measure, val in measures4.items():\n",
    "    if measure in [\"wer\", \"mer\", \"wil\", \"wip\"]:\n",
    "        print(\"{0:15}  {1}%\".format(measure, round(val*100)))\n",
    "    else:\n",
    "        print(\"{0:15}  {1}%\".format(measure, round(val / count_words(ref)*100)))\n"
   ]
  },
  {
   "cell_type": "code",
   "execution_count": 935,
   "metadata": {},
   "outputs": [],
   "source": [
    "vector = [val for measure, val in measures4.items() \n",
    "          if measure not in [\"wer\", \"mer\", \"wil\", \"wip\"]]\n",
    "\n",
    "names = [\"hits\", \"subs\", \"del\", \"ins\"]\n",
    "\n",
    "y_pos = np.arange(len(vector))"
   ]
  },
  {
   "cell_type": "code",
   "execution_count": 936,
   "metadata": {},
   "outputs": [
    {
     "data": {
      "text/plain": [
       "<Figure size 360x360 with 0 Axes>"
      ]
     },
     "execution_count": 936,
     "metadata": {},
     "output_type": "execute_result"
    },
    {
     "data": {
      "text/plain": [
       "([<matplotlib.axis.XTick at 0x7f9a2fd73220>,\n",
       "  <matplotlib.axis.XTick at 0x7f9a2fd73340>,\n",
       "  <matplotlib.axis.XTick at 0x7f9a19f5a640>,\n",
       "  <matplotlib.axis.XTick at 0x7f9a19fbdc10>],\n",
       " [Text(0, 0, 'hits'),\n",
       "  Text(1, 0, 'subs'),\n",
       "  Text(2, 0, 'del'),\n",
       "  Text(3, 0, 'ins')])"
      ]
     },
     "execution_count": 936,
     "metadata": {},
     "output_type": "execute_result"
    },
    {
     "data": {
      "text/plain": [
       "Text(0.5, 1.0, 'Automatic transcription')"
      ]
     },
     "execution_count": 936,
     "metadata": {},
     "output_type": "execute_result"
    },
    {
     "data": {
      "text/plain": [
       "Text(0.5, 0, 'Measures')"
      ]
     },
     "execution_count": 936,
     "metadata": {},
     "output_type": "execute_result"
    },
    {
     "data": {
      "text/plain": [
       "Text(0, 0.5, 'Number of words')"
      ]
     },
     "execution_count": 936,
     "metadata": {},
     "output_type": "execute_result"
    },
    {
     "data": {
      "text/plain": [
       "(0.5, 216.3)"
      ]
     },
     "execution_count": 936,
     "metadata": {},
     "output_type": "execute_result"
    },
    {
     "data": {
      "image/png": "[encoded data removed]",
      "text/plain": [
       "<Figure size 360x360 with 1 Axes>"
      ]
     },
     "metadata": {},
     "output_type": "display_data"
    }
   ],
   "source": [
    "plt.figure(figsize=(5, 5))\n",
    "\n",
    "chart = sns.barplot(x=names, y=vector, palette='RdBu')\n",
    "\n",
    "plt.xticks(y_pos, names, rotation=45)\n",
    "plt.title('Automatic transcription', fontsize=14)\n",
    "plt.xlabel('Measures', fontsize=12)\n",
    "plt.ylabel('Number of words', fontsize=12)\n",
    "plt.ylim(.5)\n",
    "plt.show()\n",
    "\n",
    "fig = chart.get_figure()"
   ]
  },
  {
   "cell_type": "code",
   "execution_count": 928,
   "metadata": {},
   "outputs": [
    {
     "name": "stdout",
     "output_type": "stream",
     "text": [
      "Reference\t\tCorrected\t\tAutomatic\n",
      "   109    \t\t   109    \t\t   109    \n",
      "============================================================\n",
      "\n",
      " absence  \t\t absence  \t\t absence  \n",
      "  affix   \t\t  affix   \t\t  affix   \n",
      "  africa  \t\t  africa  \t\t  africa  \n",
      " african  \t\t african  \t\t african  \n",
      " anybody  \t\t anything \t\t anybody  \n",
      " anything \t\t archival \t\t anything \n",
      " archival \t\t   area   \t\t archival \n",
      " argument \t\t argument \t\t argument \n",
      "   asia   \t\t   asia   \t\t   asia   \n",
      "attention \t\tattention \t\tattention \n",
      "background\t\tbackground\t\tbackground\n",
      " barrier  \t\t barrier  \t\t barrier  \n",
      "   bell   \t\t   bell   \t\t   bell   \n",
      "   bias   \t\t   bias   \t\t   bias   \n",
      "bickerton \t\tbickerton \t\tbickerton \n",
      " business \t\t business \t\tbiggerton \n",
      "candidate \t\tcandidate \t\t bikerton \n",
      "  child   \t\t  child   \t\t business \n",
      "  china   \t\t  china   \t\tcandidate \n",
      "  choice  \t\t  choice  \t\t  career  \n",
      "  claim   \t\t  claim   \t\t  child   \n",
      "  coast   \t\t  coast   \t\t  china   \n",
      "   code   \t\t   code   \t\t  choice  \n",
      "communication\t\tcommunication\t\t  claim   \n",
      "community \t\tcommunity \t\t  coast   \n",
      "complexity\t\tcomplexity\t\t   code   \n",
      " concern  \t\t concern  \t\tcommunity \n",
      "condition \t\tcondition \t\tcomplexity\n",
      " creation \t\t creation \t\tcondition \n",
      "  creole  \t\t  creole  \t\t creation \n",
      "   data   \t\t   data   \t\t  creole  \n",
      "  debate  \t\t  define  \t\t   data   \n",
      "definition\t\tdefinition\t\t  debate  \n",
      "difference\t\tdifference\t\tdefinition\n",
      "  doubt   \t\t  doubt   \t\tdifference\n",
      " erectus  \t\t erectus  \t\t  doubt   \n",
      "  europe  \t\t  europe  \t\t erectus  \n",
      " evidence \t\t evidence \t\t  europe  \n",
      " example  \t\t example  \t\t evidence \n",
      "   fact   \t\t   fact   \t\t example  \n",
      "  family  \t\t  family  \t\t   face   \n",
      "  fifth   \t\t  fellow  \t\t   fact   \n",
      "  franca  \t\t  fifth   \t\t  family  \n",
      "  french  \t\t  franca  \t\t  fellow  \n",
      "generation\t\t  france  \t\t  franca  \n",
      "  guess   \t\tgeneration\t\t  french  \n",
      " hearing  \t\t  guess   \t\tgeneration\n",
      " history  \t\t hearing  \t\t   girl   \n",
      "   home   \t\t history  \t\t  grill   \n",
      "   homo   \t\t   home   \t\t hearing  \n",
      "hypothesis\t\t   homo   \t\t history  \n",
      "   idea   \t\t   idea   \t\t   home   \n",
      "   kind   \t\t   kind   \t\thypothesis\n",
      " language \t\t language \t\t   idea   \n",
      "  latin   \t\t  latin   \t\t   kind   \n",
      "  leader  \t\t  leader  \t\t language \n",
      "  level   \t\t  level   \t\t  latin   \n",
      "   line   \t\t   line   \t\t  leader  \n",
      "  marker  \t\t  lingua  \t\t  level   \n",
      "   mean   \t\t  marker  \t\t   line   \n",
      "  nobody  \t\t   mean   \t\t  louis   \n",
      " observer \t\t  nobody  \t\t  market  \n",
      "  order   \t\t observer \t\t   mean   \n",
      "ouverture \t\touverture \t\t  nobody  \n",
      "   part   \t\t   part   \t\t observer \n",
      "  patois  \t\t  patois  \t\t  order   \n",
      " pattern  \t\t pattern  \t\t   part   \n",
      "  people  \t\t  people  \t\t  patois  \n",
      "  period  \t\t  period  \t\t pattern  \n",
      "perspective\t\tperspective\t\t  people  \n",
      "  pidgin  \t\t  pidgin  \t\t  period  \n",
      "pidginlike\t\tpidginlike\t\t  pigeon  \n",
      "  piece   \t\t  piece   \t\tpigeonlike\n",
      "  point   \t\t  point   \t\t pitching \n",
      " question \t\t question \t\t  point   \n",
      "  rachel  \t\t  rachel  \t\t question \n",
      "recording \t\t recoding \t\trecording \n",
      " remember \t\trecording \t\t remember \n",
      "  report  \t\t remember \t\t  report  \n",
      " respond  \t\t  report  \t\trevolution\n",
      "revolution\t\t respond  \t\t  right   \n",
      "  right   \t\t  right   \t\t scenario \n",
      " scenario \t\t scenario \t\t  sense   \n",
      "  sense   \t\t  sense   \t\t   show   \n",
      "  singer  \t\t  singer  \t\t  singer  \n",
      "situation \t\tsituation \t\tsituation \n",
      " somebody \t\t somebody \t\t somebody \n",
      " someone  \t\t someone  \t\t someone  \n",
      "something \t\tsomething \t\tsomething \n",
      "   sort   \t\t   sort   \t\t   sort   \n",
      " speaker  \t\t  source  \t\t speaker  \n",
      "  speech  \t\t speaker  \t\t  speech  \n",
      "  stage   \t\t  speech  \t\t  stage   \n",
      "  state   \t\t  stage   \t\t  state   \n",
      "structure \t\t  state   \t\t  story   \n",
      "switching \t\tstructure \t\tstructure \n",
      "  system  \t\t  suffix  \t\tswitching \n",
      "   term   \t\tswitching \t\t  system  \n",
      "  thing   \t\t  system  \t\t   term   \n",
      "   time   \t\t   term   \t\t  thing   \n",
      "toussaint \t\t  thing   \t\t   time   \n",
      "tunneling \t\t   time   \t\ttunneling \n",
      "   type   \t\ttoussaint \t\t   type   \n",
      "unlanguage\t\t   type   \t\tunlanguage\n",
      " variety  \t\t variety  \t\t variety  \n",
      "   verb   \t\t   verb   \t\t   verb   \n",
      " version  \t\t version  \t\t version  \n",
      " whistle  \t\t whistle  \t\t whistle  \n",
      "   word   \t\t   word   \t\t   word   \n"
     ]
    }
   ],
   "source": [
    "ref = sorted(collections.Counter([w for w in re.split(r\"\\W+\", ref)]))\n",
    "hyp1 = sorted(collections.Counter([w for w in re.split(r\"\\W+\", hyp1)]))\n",
    "hyp2 = sorted(collections.Counter(([w for w in re.split(r\"\\W+\", hyp2)])))\n",
    "\n",
    "print(\"Reference\\t\\tCorrected\\t\\tAutomatic\")\n",
    "print(\"{:^10}\\t\\t{:^10}\\t\\t{:^10}\".format(len(ref),len(hyp1),len(hyp2)))\n",
    "print(60*\"=\")\n",
    "print()\n",
    "for w1, w2, w3 in zip(ref, hyp1, hyp2):\n",
    "        print('{:^10}\\t\\t{:^10}\\t\\t{:^10}'\n",
    "              .format(w1, w2, w3))"
   ]
  },
  {
   "cell_type": "code",
   "execution_count": 945,
   "metadata": {},
   "outputs": [
    {
     "name": "stdout",
     "output_type": "stream",
     "text": [
      "The corrected transcription differs from reference for 38 lemmas\n",
      "The automated transcription differs from reference for 48 lemmas\n"
     ]
    }
   ],
   "source": [
    "ref_vs_corr = 0\n",
    "ref_vs_auto = 0\n",
    "\n",
    "for w1, w2, w3 in zip(ref, hyp1, hyp2):\n",
    "    if w1 != w2 :\n",
    "        ref_vs_corr += 1\n",
    "    elif w1 != w3:\n",
    "        ref_vs_auto += 1\n",
    "        \n",
    "        \n",
    "print(\"The corrected transcription differs from reference for {} lemmas\"\n",
    "      .format(ref_vs_corr))\n",
    "print(\"The automated transcription differs from reference for {} lemmas\"\n",
    "      .format(ref_vs_auto))\n"
   ]
  },
  {
   "cell_type": "markdown",
   "metadata": {},
   "source": [
    "## Semantic distance"
   ]
  },
  {
   "cell_type": "markdown",
   "metadata": {},
   "source": [
    "### References"
   ]
  },
  {
   "cell_type": "markdown",
   "metadata": {},
   "source": [
    "Briggs, J. (2021) BERT For Measuring Text Similarity. High-performance semantic similarity with BERT. Towards Data Science. 05/05/2021\n",
    "\n",
    "https://towardsdatascience.com/bert-for-measuring-text-similarity-eec91c6bf9e1\n",
    "https://github.com/jamescalam/transformers/blob/main/course/similarity/04_sentence_transformers.ipynb\n",
    "\n",
    "Onofrey, E. (2019) Analyzing Movie Dialog Speed with Python. Towards Data Science. 10/09/2019\n",
    "\n",
    "https://towardsdatascience.com/analyzing-movie-dialog-speed-with-python-79a8a8a286e8\n",
    "\n",
    "https://github.com/eonofrey/movie_word_counts\n",
    "\n"
   ]
  }
 ],
 "metadata": {
  "kernelspec": {
   "display_name": "Python 3",
   "language": "python",
   "name": "python3"
  },
  "language_info": {
   "codemirror_mode": {
    "name": "ipython",
    "version": 3
   },
   "file_extension": ".py",
   "mimetype": "text/x-python",
   "name": "python",
   "nbconvert_exporter": "python",
   "pygments_lexer": "ipython3",
   "version": "3.8.5"
  }
 },
 "nbformat": 4,
 "nbformat_minor": 4
}
